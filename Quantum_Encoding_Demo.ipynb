{
 "cells": [
  {
   "cell_type": "code",
   "execution_count": null,
   "metadata": {},
   "outputs": [],
   "source": [
    "import numpy as np\n",
    "import pennylane as qml\n",
    "from pennylane import numpy as np\n",
    "from pennylane.templates import RandomLayers,BasicEntanglerLayers\n",
    "import qiskit"
   ]
  },
  {
   "cell_type": "code",
   "execution_count": null,
   "metadata": {},
   "outputs": [],
   "source": [
    "T=np.load('data.npy') ##### Time series data. Should be a tensor of shape: (batch, time, features)"
   ]
  },
  {
   "cell_type": "code",
   "execution_count": null,
   "metadata": {},
   "outputs": [],
   "source": [
    "n_w = 4 # numbers of wires def 4\n",
    "dev = qml.device(\"default.qubit\", wires= n_w)"
   ]
  },
  {
   "cell_type": "code",
   "execution_count": null,
   "metadata": {},
   "outputs": [],
   "source": [
    "### Quantum Circuit\n",
    "\n",
    "n_layers = 2\n",
    "\n",
    "# Random circuit parameters\n",
    "rand_params = np.random.uniform(high= 2 * np.pi, size=(n_layers, n_w)) # def 2, n_w = 4\n",
    "\n",
    "@qml.qnode(dev)\n",
    "def circuit(phi=None):\n",
    "    \n",
    "    for j in range(n_w):\n",
    "        qml.RY(np.pi * phi[j], wires=j)\n",
    "\n",
    "    qml.BasicEntanglerLayers(weights=rand_params, wires=range(n_w))\n",
    "    return [qml.expval(qml.PauliZ(wires=i)) for i in range(n_w)]\n"
   ]
  },
  {
   "cell_type": "code",
   "execution_count": null,
   "metadata": {},
   "outputs": [],
   "source": [
    "## Piece-wise Encoding\n",
    "def encode(feature,kr=4):\n",
    "    out=[]\n",
    "    for j in range(0,feature.shape[0]-3,4):\n",
    "        q_results = circuit(\n",
    "                [feature[j], feature[j+1], feature[j + 2], feature[j + 3]]\n",
    "            )\n",
    "        out.append(q_results)\n",
    "    return out"
   ]
  },
  {
   "cell_type": "code",
   "execution_count": null,
   "metadata": {},
   "outputs": [],
   "source": [
    "Encoded_data=[]\n",
    "from tqdm import tqdm\n",
    "for j in tqdm(range(0,len(T))):\n",
    "    \n",
    "    x=T[j,:,:]\n",
    "    F=[]\n",
    "    F1=[]\n",
    "    for i in range(0,x.shape[1]):\n",
    "        \n",
    "        feature=x[:,i]\n",
    "        E=encode(feature)\n",
    "        encoded=np.hstack(E)  \n",
    "        F1.append(encoded) \n",
    "        \n",
    "    F1=np.stack(F1) # Encoded time series\n",
    "    Encoded_data.append(F1)\n",
    " \n",
    "      \n",
    "   "
   ]
  },
  {
   "cell_type": "code",
   "execution_count": null,
   "metadata": {},
   "outputs": [],
   "source": [
    "Encoded_data=np.stack(Encoded_data)\n",
    "Encoded_data=np.rollaxis(Encoded_data,2,1)  # (batch, time,features)"
   ]
  }
 ],
 "metadata": {
  "interpreter": {
   "hash": "bb310a0600e1d400a6c8f46877b446ed3cb085597027e5897a298d5bf4cd6fca"
  },
  "kernelspec": {
   "display_name": "Python 3.9.12 ('pytorch')",
   "language": "python",
   "name": "python3"
  },
  "language_info": {
   "codemirror_mode": {
    "name": "ipython",
    "version": 3
   },
   "file_extension": ".py",
   "mimetype": "text/x-python",
   "name": "python",
   "nbconvert_exporter": "python",
   "pygments_lexer": "ipython3",
   "version": "3.9.12"
  },
  "orig_nbformat": 4
 },
 "nbformat": 4,
 "nbformat_minor": 2
}
