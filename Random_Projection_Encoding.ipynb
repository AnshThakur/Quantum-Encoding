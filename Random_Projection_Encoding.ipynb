{
 "cells": [
  {
   "cell_type": "markdown",
   "metadata": {},
   "source": [
    "This file describes the process of encoding time-series using Random Projection "
   ]
  },
  {
   "cell_type": "code",
   "execution_count": null,
   "metadata": {},
   "outputs": [],
   "source": [
    "import numpy as np\n",
    "import pennylane as qml\n",
    "from pennylane import numpy as np\n",
    "from pennylane.templates import RandomLayers\n",
    "import qiskit\n",
    "from DataNormalisation import *"
   ]
  },
  {
   "cell_type": "code",
   "execution_count": 3,
   "metadata": {},
   "outputs": [],
   "source": [
    "T=np.load('data.npy') ##### Time series data. Should be a tensor of shape: (batch, time, features)"
   ]
  },
  {
   "cell_type": "code",
   "execution_count": 4,
   "metadata": {},
   "outputs": [],
   "source": [
    "from sklearn import random_projection\n",
    "transformer = random_projection.GaussianRandomProjection(n_components=4)\n",
    "\n",
    "\n",
    "def data_transformation(data):\n",
    "    data=np.array(data).reshape(1,-1)\n",
    "    new=transformer.fit_transform(data)\n",
    "    return new    "
   ]
  },
  {
   "cell_type": "code",
   "execution_count": 5,
   "metadata": {},
   "outputs": [],
   "source": [
    "def encode(feature,kr=4):\n",
    "    out=[]\n",
    "    for j in range(0,feature.shape[0]-3,4):\n",
    "        q_results = data_transformation([feature[j], feature[j+1], feature[j + 2], feature[j + 3]])\n",
    "        out.append(q_results)\n",
    "         \n",
    "    return out"
   ]
  },
  {
   "cell_type": "code",
   "execution_count": 6,
   "metadata": {},
   "outputs": [
    {
     "name": "stderr",
     "output_type": "stream",
     "text": [
      "100%|██████████| 14698/14698 [20:53<00:00, 11.72it/s]\n"
     ]
    }
   ],
   "source": [
    "Encoded=[]\n",
    "\n",
    "from tqdm import tqdm\n",
    "for j in tqdm(range(0,len(T))):\n",
    "    x=T[j,:,:]\n",
    "    \n",
    "    F=[]\n",
    "    for i in range(0,48):\n",
    "        feature=x[i,:]\n",
    "        encoded=encode(feature)\n",
    "        F.append(np.hstack(encoded)[0,:])\n",
    "        \n",
    "    F=np.stack(F)  \n",
    "    Encoded.append(F) \n",
    "\n",
    "Encoded=np.stack(Encoded)  # batch, time, feature\n"
   ]
  }
 ],
 "metadata": {
  "interpreter": {
   "hash": "bb310a0600e1d400a6c8f46877b446ed3cb085597027e5897a298d5bf4cd6fca"
  },
  "kernelspec": {
   "display_name": "Python 3.9.12 ('pytorch')",
   "language": "python",
   "name": "python3"
  },
  "language_info": {
   "codemirror_mode": {
    "name": "ipython",
    "version": 3
   },
   "file_extension": ".py",
   "mimetype": "text/x-python",
   "name": "python",
   "nbconvert_exporter": "python",
   "pygments_lexer": "ipython3",
   "version": "3.9.12"
  },
  "orig_nbformat": 4
 },
 "nbformat": 4,
 "nbformat_minor": 2
}
