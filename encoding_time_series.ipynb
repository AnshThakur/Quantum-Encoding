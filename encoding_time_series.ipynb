{
 "cells": [
  {
   "cell_type": "code",
   "execution_count": 1,
   "metadata": {},
   "outputs": [],
   "source": [
    "import numpy as np\n",
    "import pennylane as qml\n",
    "from pennylane import numpy as np\n",
    "from pennylane.templates import RandomLayers\n",
    "import qiskit"
   ]
  },
  {
   "cell_type": "code",
   "execution_count": null,
   "metadata": {},
   "outputs": [],
   "source": [
    "# encoding each feature using 4 quits: equivalent to aggregating each feature over 4 time steps\n",
    "\n",
    "# target train a comparable model on encoded data\n",
    "# check for data leaks from the model"
   ]
  },
  {
   "cell_type": "code",
   "execution_count": 2,
   "metadata": {},
   "outputs": [],
   "source": [
    "T=np.load('./data/Data.npy')\n",
    "L=np.load('./data/Labels.npy')"
   ]
  },
  {
   "cell_type": "code",
   "execution_count": 3,
   "metadata": {},
   "outputs": [],
   "source": [
    "n_w = 4 # numbers of wires def 4\n",
    "dev = qml.device(\"default.qubit\", wires= n_w)"
   ]
  },
  {
   "cell_type": "code",
   "execution_count": 4,
   "metadata": {},
   "outputs": [],
   "source": [
    "n_layers = 1\n",
    "\n",
    "# Random circuit parameters\n",
    "rand_params = np.random.uniform(high= 2 * np.pi, size=(n_layers, n_w)) # def 2, n_w = 4\n",
    "\n",
    "@qml.qnode(dev)\n",
    "def circuit(phi=None):\n",
    "    # Encoding of 4 classical input values\n",
    "    for j in range(n_w):\n",
    "        qml.RY(np.pi * phi[j], wires=j)\n",
    "\n",
    "    # Random quantum circuit\n",
    "    RandomLayers(rand_params, wires=list(range(n_w)))\n",
    "\n",
    "    # Measurement producing 4 classical output values\n",
    "    return [qml.expval(qml.PauliZ(j)) for j in range(n_w)]"
   ]
  },
  {
   "cell_type": "code",
   "execution_count": 5,
   "metadata": {},
   "outputs": [],
   "source": [
    "def encode(feature,kr=4):\n",
    "    out=[]\n",
    "    for j in range(0,feature.shape[0]-3,4):\n",
    "        q_results = circuit(\n",
    "                phi=[feature[j], feature[j+1], feature[j + 2], feature[j + 3]]\n",
    "            )\n",
    "        out.append(q_results)\n",
    "    return out"
   ]
  },
  {
   "cell_type": "code",
   "execution_count": 10,
   "metadata": {},
   "outputs": [
    {
     "name": "stderr",
     "output_type": "stream",
     "text": [
      "100%|██████████| 4/4 [00:13<00:00,  3.48s/it]\n"
     ]
    }
   ],
   "source": [
    "Enc=[]\n",
    "from tqdm import tqdm\n",
    "for j in tqdm(range(0,4)):\n",
    "    x=T[j,:,:]\n",
    "    F=[]\n",
    "    for i in range(0,47):\n",
    "        feature=x[:,i]\n",
    "        encoded=encode(feature)\n",
    "        F.append(np.stack(encoded))\n",
    "\n",
    "    F=np.stack(F)\n",
    "    F=np.transpose(F, [1, 0, 2]) \n",
    "    Enc.append(F)   \n",
    "      \n",
    "Enc=np.stack(Enc)\n",
    "np.save('./encodeed_data.npy',Enc)    "
   ]
  }
 ],
 "metadata": {
  "interpreter": {
   "hash": "bb310a0600e1d400a6c8f46877b446ed3cb085597027e5897a298d5bf4cd6fca"
  },
  "kernelspec": {
   "display_name": "Python 3.9.12 ('pytorch')",
   "language": "python",
   "name": "python3"
  },
  "language_info": {
   "codemirror_mode": {
    "name": "ipython",
    "version": 3
   },
   "file_extension": ".py",
   "mimetype": "text/x-python",
   "name": "python",
   "nbconvert_exporter": "python",
   "pygments_lexer": "ipython3",
   "version": "3.9.12"
  },
  "orig_nbformat": 4
 },
 "nbformat": 4,
 "nbformat_minor": 2
}
